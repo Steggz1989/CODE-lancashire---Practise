{
 "cells": [
  {
   "cell_type": "markdown",
   "metadata": {},
   "source": [
    "<h1>Databases homework</h1>\n",
    "\n",
    "The homework for this week is to create and work with your own database. For that you should:\n",
    "- Choose a dataset to work with (I personally recommend the pokemon dataset);\n",
    "- Create your database schema using one of the available tools online such as [dbdiagram](https://dbdiagram.io/) (or, any other tool you prefer);\n",
    "- Create the database using SQLAlchemy and demonstrate that you can use it by adding, querying, updating and deleting data.\n",
    "\n",
    "Bonus points: parse the entire csv you're working the database format BUT it is strictly forbidden to do that manually, i.e., WITHOUT using a loop (which, quite frankly, is madness).\n"
   ]
  },
  {
   "cell_type": "code",
   "execution_count": 1,
   "metadata": {},
   "outputs": [],
   "source": [
    "import sqlalchemy as sql"
   ]
  },
  {
   "cell_type": "code",
   "execution_count": 2,
   "metadata": {},
   "outputs": [],
   "source": [
    "import os\n",
    "import sys\n",
    "from sqlalchemy import Column, ForeignKey, Integer, String, Boolean\n",
    "from sqlalchemy.ext.declarative import declarative_base\n",
    "from sqlalchemy.orm import relationship\n",
    "from sqlalchemy import create_engine"
   ]
  },
  {
   "cell_type": "code",
   "execution_count": 3,
   "metadata": {},
   "outputs": [],
   "source": [
    "Base = declarative_base()\n",
    "\n",
    "class Pokemon(Base):\n",
    "    __tablename__ = 'pokemon'\n",
    "    # Here we define columns for the table person\n",
    "    # Notice that each column is also a normal Python instance attribute.\n",
    "    id = Column(Integer, primary_key=True)\n",
    "    name = Column(String(50), nullable=False)\n",
    "\n",
    "class Attributes(Base):\n",
    "    __tablename__ = 'attributes'\n",
    "    # Here we define columns for the table address.\n",
    "    # Notice that each column is also a normal Python instance attribute.\n",
    "    id = Column(Integer, primary_key=True)\n",
    "    Type1 = Column(String(50), nullable=False)\n",
    "    Type2 = Column(String(50))\n",
    "    HP = Column(Integer, nullable=False)\n",
    "    Attack = Column(Integer, nullable=False)\n",
    "    Defence = Column(Integer, nullable=False)\n",
    "    Sp_Atk = Column(Integer, nullable=False)\n",
    "    Sp_Def = Column(Integer, nullable=False)\n",
    "    Speed = Column(Integer, nullable=False)\n",
    "    Generation = Column(Integer, nullable=False)\n",
    "    Legendary = Column(Boolean, nullable=False)\n",
    "    V = Column(Boolean, nullable=False)\n",
    "    V_Max = Column(Boolean, nullable=False)\n",
    "    X_Y = Column(Boolean, nullable=False)\n",
    "    Year = Column(Integer, nullable=False)\n",
    "    pokemon_id = Column(Integer, ForeignKey('pokemon.id'))\n",
    "    Pokemon = relationship(Pokemon)\n",
    "\n",
    "# Create an engine that stores data in the local directory's\n",
    "# sqlalchemy_example.db file.\n",
    "engine = create_engine('sqlite:///Pokedex.db')\n",
    "\n",
    "# Create all tables in the engine. This is equivalent to \"Create Table\"\n",
    "# statements in raw SQL.\n",
    "Base.metadata.create_all(engine)"
   ]
  },
  {
   "cell_type": "code",
   "execution_count": 4,
   "metadata": {},
   "outputs": [
    {
     "name": "stdout",
     "output_type": "stream",
     "text": [
      "<class '__main__.Pokemon'>\n"
     ]
    }
   ],
   "source": [
    "print (Pokemon)"
   ]
  },
  {
   "cell_type": "code",
   "execution_count": 5,
   "metadata": {},
   "outputs": [],
   "source": [
    "from sqlalchemy import create_engine\n",
    "from sqlalchemy.orm import sessionmaker\n",
    "\n",
    "#from sqlalchemy_declarative import Attributes, Base, Pokemon\n",
    "\n",
    "# Notice we're using SQLite here.\n",
    "# This line will create the database if it isn't there already.\n",
    "engine = create_engine('sqlite:///Pokedex.db')\n",
    "# Bind the engine to the metadata of the Base class so that the\n",
    "# declaratives can be accessed through a DBSession instance\n",
    "Base.metadata.bind = engine\n",
    "\n",
    "DBSession = sessionmaker(bind=engine)\n",
    "# A DBSession() instance establishes all conversations with the database\n",
    "# and represents a \"staging zone\" for all the objects loaded into the\n",
    "# database session object. Any change made against the objects in the\n",
    "# session won't be persisted into the database until you call\n",
    "# session.commit(). If you're not happy about the changes, you can\n",
    "# revert all of them back to the last commit by calling\n",
    "# session.rollback()\n",
    "session = DBSession()"
   ]
  },
  {
   "cell_type": "markdown",
   "metadata": {},
   "source": [
    "POKEMON"
   ]
  },
  {
   "cell_type": "code",
   "execution_count": 6,
   "metadata": {},
   "outputs": [],
   "source": [
    "session.rollback()"
   ]
  },
  {
   "cell_type": "code",
   "execution_count": 7,
   "metadata": {},
   "outputs": [],
   "source": [
    "new_pokemon = Pokemon(name='Bulbasaur')\n",
    "session.add(new_pokemon)\n",
    "session.commit()"
   ]
  },
  {
   "cell_type": "code",
   "execution_count": 8,
   "metadata": {},
   "outputs": [],
   "source": [
    "# Insert an Address in the address table\n",
    "\n",
    "new_type = Attributes(\n",
    "    Type1 = 'Grass',\n",
    "    Type2 = 'Poison',\n",
    "    HP = 45,\n",
    "    Attack = 49,\n",
    "    Defence = 49,\n",
    "    Sp_Atk = 65,\n",
    "    Sp_Def = 65,\n",
    "    Speed = 45,\n",
    "    Generation = 1, \n",
    "    Legendary = False,\n",
    "    V = False,\n",
    "    V_Max = False,\n",
    "    X_Y = False,\n",
    "    Year = 1996,\n",
    "    Pokemon = new_pokemon)\n",
    "\n",
    "session.add(new_type)\n",
    "session.commit()"
   ]
  },
  {
   "cell_type": "code",
   "execution_count": 9,
   "metadata": {},
   "outputs": [],
   "source": [
    "new_pokemon = Pokemon(name='Ivysaur')\n",
    "session.add(new_pokemon)\n",
    "session.commit()\n",
    "\n",
    "new_type = Attributes(\n",
    "    Type1 = 'Grass',\n",
    "    Type2 = 'Poison',\n",
    "    HP = 60,\n",
    "    Attack = 62,\n",
    "    Defence = 63,\n",
    "    Sp_Atk = 80,\n",
    "    Sp_Def = 80,\n",
    "    Speed = 60,\n",
    "    Generation = 1, \n",
    "    Legendary = False,\n",
    "    V = False,\n",
    "    V_Max = False,\n",
    "    X_Y = False,\n",
    "    Year = 1996,\n",
    "    Pokemon = new_pokemon)"
   ]
  },
  {
   "cell_type": "code",
   "execution_count": 10,
   "metadata": {},
   "outputs": [],
   "source": [
    "new_pokemon = Pokemon(name='Venusaur')\n",
    "session.add(new_pokemon)\n",
    "session.commit()\n",
    "\n",
    "new_type = Attributes(\n",
    "    Type1 = 'Grass',\n",
    "    Type2 = 'Poison',\n",
    "    HP = 80,\n",
    "    Attack = 82,\n",
    "    Defence = 83,\n",
    "    Sp_Atk = 100,\n",
    "    Sp_Def = 100,\n",
    "    Speed = 80,\n",
    "    Generation = 1, \n",
    "    Legendary = False,\n",
    "    V = True,\n",
    "    V_Max = False,\n",
    "    X_Y = False,\n",
    "    Year = 1996,\n",
    "    Pokemon = new_pokemon)"
   ]
  },
  {
   "cell_type": "code",
   "execution_count": 11,
   "metadata": {},
   "outputs": [],
   "source": [
    "new_pokemon = Pokemon(name='Venusaur Mega')\n",
    "session.add(new_pokemon)\n",
    "session.commit()\n",
    "\n",
    "new_type = Attributes(\n",
    "    Type1 = 'Grass',\n",
    "    Type2 = 'Poison',\n",
    "    HP = 80,\n",
    "    Attack = 100,\n",
    "    Defence = 123,\n",
    "    Sp_Atk = 122,\n",
    "    Sp_Def = 120,\n",
    "    Speed = 80,\n",
    "    Generation = 1, \n",
    "    Legendary = False,\n",
    "    V = True,\n",
    "    V_Max = False,\n",
    "    X_Y = False,\n",
    "    Year = 2013,\n",
    "    Pokemon = new_pokemon)"
   ]
  },
  {
   "cell_type": "code",
   "execution_count": 12,
   "metadata": {},
   "outputs": [],
   "source": [
    "new_pokemon = Pokemon(name='Charmander')\n",
    "session.add(new_pokemon)\n",
    "session.commit()\n",
    "\n",
    "new_type = Attributes(\n",
    "    Type1 = 'Fire',\n",
    "    Type2 = '',\n",
    "    HP = 39,\n",
    "    Attack = 52,\n",
    "    Defence = 43,\n",
    "    Sp_Atk = 60,\n",
    "    Sp_Def = 50,\n",
    "    Speed = 65,\n",
    "    Generation = 1, \n",
    "    Legendary = False,\n",
    "    V = False,\n",
    "    V_Max = False,\n",
    "    X_Y = False,\n",
    "    Year = 1996,\n",
    "    Pokemon = new_pokemon)"
   ]
  },
  {
   "cell_type": "code",
   "execution_count": 13,
   "metadata": {},
   "outputs": [],
   "source": [
    "new_pokemon = Pokemon(name='Charmeleon')\n",
    "session.add(new_pokemon)\n",
    "session.commit()\n",
    "\n",
    "new_type = Attributes(\n",
    "    Type1 = 'Fire',\n",
    "    Type2 = '',\n",
    "    HP = 58,\n",
    "    Attack = 64,\n",
    "    Defence = 58,\n",
    "    Sp_Atk = 80,\n",
    "    Sp_Def = 65,\n",
    "    Speed = 80,\n",
    "    Generation = 1, \n",
    "    Legendary = False,\n",
    "    V = False,\n",
    "    V_Max = False,\n",
    "    X_Y = False,\n",
    "    Year = 1996,\n",
    "    Pokemon = new_pokemon)"
   ]
  },
  {
   "cell_type": "code",
   "execution_count": 14,
   "metadata": {},
   "outputs": [],
   "source": [
    "new_pokemon = Pokemon(name='Charizard')\n",
    "session.add(new_pokemon)\n",
    "session.commit()\n",
    "\n",
    "new_type = Attributes(\n",
    "    Type1 = 'Fire',\n",
    "    Type2 = 'Flying',\n",
    "    HP = 78,\n",
    "    Attack = 84,\n",
    "    Defence = 78,\n",
    "    Sp_Atk = 109,\n",
    "    Sp_Def = 85,\n",
    "    Speed = 100,\n",
    "    Generation = 1, \n",
    "    Legendary = False,\n",
    "    V = False,\n",
    "    V_Max = False,\n",
    "    X_Y = False,\n",
    "    Year = 1996,\n",
    "    Pokemon = new_pokemon)"
   ]
  },
  {
   "cell_type": "code",
   "execution_count": 15,
   "metadata": {},
   "outputs": [],
   "source": [
    "new_pokemon = Pokemon(name='Charizard Mega Charizard X')\n",
    "session.add(new_pokemon)\n",
    "session.commit()\n",
    "\n",
    "new_type = Attributes(\n",
    "    Type1 = 'Fire',\n",
    "    Type2 = 'Flying',\n",
    "    HP = 78,\n",
    "    Attack = 130,\n",
    "    Defence = 111,\n",
    "    Sp_Atk = 130,\n",
    "    Sp_Def = 85,\n",
    "    Speed = 100,\n",
    "    Generation = 1, \n",
    "    Legendary = False,\n",
    "    V = False,\n",
    "    V_Max = False,\n",
    "    X_Y = True,\n",
    "    Year = 2013,\n",
    "    Pokemon = new_pokemon)"
   ]
  },
  {
   "cell_type": "code",
   "execution_count": 16,
   "metadata": {},
   "outputs": [],
   "source": [
    "new_pokemon = Pokemon(name='Charizard Mega Charizard Y')\n",
    "session.add(new_pokemon)\n",
    "session.commit()\n",
    "\n",
    "new_type = Attributes(\n",
    "    Type1 = 'Fire',\n",
    "    Type2 = 'Flying',\n",
    "    HP = 78,\n",
    "    Attack = 104,\n",
    "    Defence = 78,\n",
    "    Sp_Atk = 159,\n",
    "    Sp_Def = 115,\n",
    "    Speed = 100,\n",
    "    Generation = 1, \n",
    "    Legendary = False,\n",
    "    V = False,\n",
    "    V_Max = False,\n",
    "    X_Y = True,\n",
    "    Year = 2013,\n",
    "    Pokemon = new_pokemon)"
   ]
  },
  {
   "cell_type": "code",
   "execution_count": 17,
   "metadata": {},
   "outputs": [],
   "source": [
    "from sqlalchemy.sql import select"
   ]
  },
  {
   "cell_type": "code",
   "execution_count": 18,
   "metadata": {},
   "outputs": [
    {
     "data": {
      "text/plain": [
       "[(1, 'Bulbasaur'),\n",
       " (2, 'Ivysaur'),\n",
       " (3, 'Venusaur'),\n",
       " (4, 'Venusaur Mega'),\n",
       " (5, 'Charmander'),\n",
       " (6, 'Charmeleon'),\n",
       " (7, 'Charizard'),\n",
       " (8, 'Charizard Mega Charizard X'),\n",
       " (9, 'Charizard Mega Charizard Y')]"
      ]
     },
     "execution_count": 18,
     "metadata": {},
     "output_type": "execute_result"
    }
   ],
   "source": [
    "s = \"SELECT * FROM pokemon\"\n",
    "rp = session.execute(s)\n",
    "results = rp.fetchall()\n",
    "results"
   ]
  },
  {
   "cell_type": "code",
   "execution_count": 19,
   "metadata": {},
   "outputs": [
    {
     "data": {
      "text/plain": [
       "[(1, 'Bulbasaur')]"
      ]
     },
     "execution_count": 19,
     "metadata": {},
     "output_type": "execute_result"
    }
   ],
   "source": [
    "s = \"SELECT * FROM pokemon WHERE ID = 1\"\n",
    "rp = session.execute(s)\n",
    "results = rp.fetchall()\n",
    "results"
   ]
  },
  {
   "cell_type": "code",
   "execution_count": 20,
   "metadata": {},
   "outputs": [
    {
     "data": {
      "text/plain": [
       "[(2, 'Ivysaur')]"
      ]
     },
     "execution_count": 20,
     "metadata": {},
     "output_type": "execute_result"
    }
   ],
   "source": [
    "s = \"SELECT * FROM pokemon WHERE ID = 2\"\n",
    "rp = session.execute(s)\n",
    "results = rp.fetchall()\n",
    "results"
   ]
  },
  {
   "cell_type": "code",
   "execution_count": 21,
   "metadata": {},
   "outputs": [],
   "source": [
    "s = session.query(Attributes)\n",
    "s = s.filter(Attributes.pokemon_id == 1)"
   ]
  },
  {
   "cell_type": "code",
   "execution_count": 22,
   "metadata": {},
   "outputs": [],
   "source": [
    "# Update example.\n",
    "s.update({Attributes.HP: 500})\n",
    "session.commit()"
   ]
  },
  {
   "cell_type": "code",
   "execution_count": 23,
   "metadata": {},
   "outputs": [
    {
     "data": {
      "text/plain": [
       "'1.4.32'"
      ]
     },
     "execution_count": 23,
     "metadata": {},
     "output_type": "execute_result"
    }
   ],
   "source": [
    "sql.__version__"
   ]
  },
  {
   "cell_type": "code",
   "execution_count": 24,
   "metadata": {},
   "outputs": [
    {
     "data": {
      "text/plain": [
       "RMKeyView(['id', 'name'])"
      ]
     },
     "execution_count": 24,
     "metadata": {},
     "output_type": "execute_result"
    }
   ],
   "source": [
    "results[0].keys()"
   ]
  },
  {
   "cell_type": "code",
   "execution_count": 25,
   "metadata": {},
   "outputs": [
    {
     "ename": "AttributeError",
     "evalue": "Could not locate column in row for column 'Pokemon'",
     "output_type": "error",
     "traceback": [
      "\u001b[1;31m---------------------------------------------------------------------------\u001b[0m",
      "\u001b[1;31mAttributeError\u001b[0m                            Traceback (most recent call last)",
      "\u001b[1;32mc:\\Users\\Admin\\Documents\\Coding\\CODE lancashire - Practise\\Databases and SQL\\Homework\\SQLAlchemy_homework.ipynb Cell 27\u001b[0m in \u001b[0;36m<cell line: 1>\u001b[1;34m()\u001b[0m\n\u001b[0;32m      <a href='vscode-notebook-cell:/c%3A/Users/Admin/Documents/Coding/CODE%20lancashire%20-%20Practise/Databases%20and%20SQL/Homework/SQLAlchemy_homework.ipynb#X35sZmlsZQ%3D%3D?line=0'>1</a>\u001b[0m \u001b[39mfor\u001b[39;00m result \u001b[39min\u001b[39;00m results:\n\u001b[1;32m----> <a href='vscode-notebook-cell:/c%3A/Users/Admin/Documents/Coding/CODE%20lancashire%20-%20Practise/Databases%20and%20SQL/Homework/SQLAlchemy_homework.ipynb#X35sZmlsZQ%3D%3D?line=1'>2</a>\u001b[0m     \u001b[39mprint\u001b[39m(result\u001b[39m.\u001b[39;49mPokemon\u001b[39m.\u001b[39mid)\n\u001b[0;32m      <a href='vscode-notebook-cell:/c%3A/Users/Admin/Documents/Coding/CODE%20lancashire%20-%20Practise/Databases%20and%20SQL/Homework/SQLAlchemy_homework.ipynb#X35sZmlsZQ%3D%3D?line=2'>3</a>\u001b[0m     \u001b[39mprint\u001b[39m(result\u001b[39m.\u001b[39mPokemon\u001b[39m.\u001b[39mname)\n",
      "\u001b[1;31mAttributeError\u001b[0m: Could not locate column in row for column 'Pokemon'"
     ]
    }
   ],
   "source": [
    "for result in results:\n",
    "    print(result.Pokemon.id)\n",
    "    print(result.Pokemon.name)"
   ]
  },
  {
   "cell_type": "code",
   "execution_count": null,
   "metadata": {},
   "outputs": [
    {
     "ename": "IndexError",
     "evalue": "list index out of range",
     "output_type": "error",
     "traceback": [
      "\u001b[1;31m---------------------------------------------------------------------------\u001b[0m",
      "\u001b[1;31mIndexError\u001b[0m                                Traceback (most recent call last)",
      "\u001b[1;32mc:\\Users\\Admin\\Documents\\Coding\\CODE lancashire - Practise\\Databases and SQL\\Homework\\SQLAlchemy_homework.ipynb Cell 27\u001b[0m in \u001b[0;36m<cell line: 1>\u001b[1;34m()\u001b[0m\n\u001b[1;32m----> <a href='vscode-notebook-cell:/c%3A/Users/Admin/Documents/Coding/CODE%20lancashire%20-%20Practise/Databases%20and%20SQL/Homework/SQLAlchemy_homework.ipynb#X44sZmlsZQ%3D%3D?line=0'>1</a>\u001b[0m results[\u001b[39m1\u001b[39;49m]\u001b[39m.\u001b[39mpokemon\u001b[39m.\u001b[39mname()\n",
      "\u001b[1;31mIndexError\u001b[0m: list index out of range"
     ]
    }
   ],
   "source": [
    "results[1].pokemon.name()"
   ]
  },
  {
   "cell_type": "code",
   "execution_count": null,
   "metadata": {},
   "outputs": [
    {
     "name": "stdout",
     "output_type": "stream",
     "text": [
      "[(<__main__.Pokemon object at 0x000001F705495910>,), (<__main__.Pokemon object at 0x000001F70552B9A0>,), (<__main__.Pokemon object at 0x000001F7055335B0>,), (<__main__.Pokemon object at 0x000001F7055334F0>,), (<__main__.Pokemon object at 0x000001F705533280>,), (<__main__.Pokemon object at 0x000001F705533160>,), (<__main__.Pokemon object at 0x000001F705533550>,), (<__main__.Pokemon object at 0x000001F7055335E0>,), (<__main__.Pokemon object at 0x000001F7055336D0>,), (<__main__.Pokemon object at 0x000001F7055336A0>,), (<__main__.Pokemon object at 0x000001F705533760>,), (<__main__.Pokemon object at 0x000001F7055334C0>,), (<__main__.Pokemon object at 0x000001F705533940>,), (<__main__.Pokemon object at 0x000001F705533700>,), (<__main__.Pokemon object at 0x000001F705533880>,), (<__main__.Pokemon object at 0x000001F7055338E0>,), (<__main__.Pokemon object at 0x000001F705533910>,), (<__main__.Pokemon object at 0x000001F70546A250>,)]\n"
     ]
    }
   ],
   "source": [
    "# Example querying the pokemon database.\n",
    "s = sql.select([Pokemon])\n",
    "rp = session.execute(s)\n",
    "results = rp.fetchall()\n",
    "print (results)"
   ]
  },
  {
   "cell_type": "code",
   "execution_count": null,
   "metadata": {},
   "outputs": [
    {
     "data": {
      "text/plain": [
       "[(<__main__.Attributes object at 0x000001F705495910>,)]"
      ]
     },
     "execution_count": 66,
     "metadata": {},
     "output_type": "execute_result"
    }
   ],
   "source": [
    "# Example querying the Attributes database.\n",
    "s = sql.select([Attributes])\n",
    "rp = session.execute(s)\n",
    "results = rp.fetchall()\n",
    "results"
   ]
  },
  {
   "cell_type": "code",
   "execution_count": null,
   "metadata": {},
   "outputs": [
    {
     "data": {
      "text/plain": [
       "[]"
      ]
     },
     "execution_count": 65,
     "metadata": {},
     "output_type": "execute_result"
    }
   ],
   "source": [
    "# Example with a where statement.\n",
    "s = sql.select([Attributes]).where(Attributes.pokemon_id == 1)\n",
    "rp = session.execute(s)\n",
    "results = rp.fetchall()\n",
    "results"
   ]
  },
  {
   "cell_type": "code",
   "execution_count": null,
   "metadata": {},
   "outputs": [],
   "source": [
    "# Delete example\n",
    "s = sql.delete(Attributes).where(Attributes.pokemon_id == 1)\n",
    "rp = session.execute(s)"
   ]
  },
  {
   "cell_type": "code",
   "execution_count": null,
   "metadata": {},
   "outputs": [
    {
     "data": {
      "text/plain": [
       "[(1, 'Bulbasaur'),\n",
       " (2, 'Ivysaur'),\n",
       " (3, 'Venusaur'),\n",
       " (4, 'Venusaur Mega'),\n",
       " (5, 'Charmander'),\n",
       " (6, 'Charmeleon'),\n",
       " (7, 'Charizard'),\n",
       " (8, 'Charizard Mega Charizard X'),\n",
       " (9, 'Charizard Mega Charizard Y'),\n",
       " (10, 'Bulbasaur'),\n",
       " (11, 'Ivysaur'),\n",
       " (12, 'Venusaur'),\n",
       " (13, 'Venusaur Mega'),\n",
       " (14, 'Charmander'),\n",
       " (15, 'Charmeleon'),\n",
       " (16, 'Charizard'),\n",
       " (17, 'Charizard Mega Charizard X'),\n",
       " (18, 'Charizard Mega Charizard Y')]"
      ]
     },
     "execution_count": 64,
     "metadata": {},
     "output_type": "execute_result"
    }
   ],
   "source": [
    "s = \"SELECT * FROM pokemon\"\n",
    "rp = session.execute(s)\n",
    "results = rp.fetchall()\n",
    "results"
   ]
  }
 ],
 "metadata": {
  "kernelspec": {
   "display_name": "Python 3.9.12 ('base')",
   "language": "python",
   "name": "python3"
  },
  "language_info": {
   "codemirror_mode": {
    "name": "ipython",
    "version": 3
   },
   "file_extension": ".py",
   "mimetype": "text/x-python",
   "name": "python",
   "nbconvert_exporter": "python",
   "pygments_lexer": "ipython3",
   "version": "3.9.12"
  },
  "vscode": {
   "interpreter": {
    "hash": "2043299c89c8cd0b4d1a6f5cf4529bd58e6a4e0fe3181a25e0d328c821cdc5c5"
   }
  }
 },
 "nbformat": 4,
 "nbformat_minor": 4
}
